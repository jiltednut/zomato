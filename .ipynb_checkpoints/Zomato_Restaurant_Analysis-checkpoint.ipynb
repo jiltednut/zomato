{
 "cells": [
  {
   "cell_type": "markdown",
   "metadata": {},
   "source": [
    "### In this file, we will be analyzing the Zomato Restaurant dataset to derive insights about the restaurant industry and predict reviews."
   ]
  },
  {
   "cell_type": "markdown",
   "metadata": {},
   "source": [
    "#### Data:\n",
    "url: url of restaurant website<br>\n",
    "address: restaurant address<br>\n",
    "name: restaurant name<br>\n",
    "online_order: whether or not the restaurant offers online ordering<br>\n",
    "book_table: whether or not the restaurant offers the option to book a table<br>\n",
    "rate: overall rating out of 5<br>\n",
    "votes: number of votes on a specific date<br>\n",
    "phone: restaurant phone number<br>\n",
    "location: restaurant location<br>\n",
    "rest_type: restaurant type<br>\n",
    "dish_liked: dishes people liked<br>\n",
    "cuisines: food styles offered (comma separated)<br>\n",
    "approx_cost(for two people): approx cost of a meal for 2.<br>\n",
    "reviews_list: list of tuples containing 2 values - (rating, review)<br>\n",
    "menu_item: list of menus available at the restaurant<br>\n",
    "listed_in(type): type of meal<br>\n",
    "listed_in(city): contains the neighborhood in which the restaurant is listed"
   ]
  },
  {
   "cell_type": "markdown",
   "metadata": {},
   "source": [
    "### Constraints / considerations / objectives:\n",
    "Accurately predict reviews<br>\n",
    "The cost of mis-classification is high<br>\n",
    "No strict latency issues"
   ]
  },
  {
   "cell_type": "code",
   "execution_count": 5,
   "metadata": {},
   "outputs": [
    {
     "ename": "ModuleNotFoundError",
     "evalue": "No module named 'geopandas'",
     "output_type": "error",
     "traceback": [
      "\u001b[1;31m---------------------------------------------------------------------------\u001b[0m",
      "\u001b[1;31mModuleNotFoundError\u001b[0m                       Traceback (most recent call last)",
      "\u001b[1;32m<ipython-input-5-ef3ea749b7a8>\u001b[0m in \u001b[0;36m<module>\u001b[1;34m\u001b[0m\n\u001b[0;32m     11\u001b[0m \u001b[1;32mimport\u001b[0m \u001b[0mmatplotlib\u001b[0m\u001b[1;33m.\u001b[0m\u001b[0mcolors\u001b[0m \u001b[1;32mas\u001b[0m \u001b[0mmcolors\u001b[0m\u001b[1;33m\u001b[0m\u001b[1;33m\u001b[0m\u001b[0m\n\u001b[0;32m     12\u001b[0m \u001b[1;33m\u001b[0m\u001b[0m\n\u001b[1;32m---> 13\u001b[1;33m \u001b[1;32mimport\u001b[0m \u001b[0mgeopandas\u001b[0m \u001b[1;32mas\u001b[0m \u001b[0mgpd\u001b[0m\u001b[1;33m\u001b[0m\u001b[1;33m\u001b[0m\u001b[0m\n\u001b[0m\u001b[0;32m     14\u001b[0m \u001b[1;32mimport\u001b[0m \u001b[0mfolium\u001b[0m\u001b[1;33m\u001b[0m\u001b[1;33m\u001b[0m\u001b[0m\n\u001b[0;32m     15\u001b[0m \u001b[1;32mfrom\u001b[0m \u001b[0mfolium\u001b[0m\u001b[1;33m.\u001b[0m\u001b[0mplugins\u001b[0m \u001b[1;32mimport\u001b[0m \u001b[0mHeatmap\u001b[0m\u001b[1;33m\u001b[0m\u001b[1;33m\u001b[0m\u001b[0m\n",
      "\u001b[1;31mModuleNotFoundError\u001b[0m: No module named 'geopandas'"
     ]
    }
   ],
   "source": [
    "# Imports and setup\n",
    "import pandas as pd\n",
    "import numpy as np\n",
    "import seaborn as sns\n",
    "\n",
    "# Setup plotting environment\n",
    "%matplotlib inline\n",
    "import matplotlib.pyplot as plt\n",
    "plt.rcParams['figure.figsize'] = (12, 5)\n",
    "sns.set_style('whitegrid')\n",
    "import matplotlib.colors as mcolors\n",
    "\n",
    "import geopandas as gpd\n",
    "import folium\n",
    "from folium.plugins import Heatmap\n",
    "\n",
    "import os\n",
    "import plotly.express as px\n",
    "import plotly.graph_objs as go\n",
    "from plotly.offline import iplot\n",
    "from plotly.offline import init_notebook_mode\n",
    "init_notebook_mode(connected = False)\n",
    "from geopy.geoencoders import Nominatim\n",
    "\n",
    "import dexplot as dxp\n",
    "\n",
    "import re\n",
    "import string\n",
    "import nltk\n",
    "ntlk.download('stopwords')\n",
    "from nltk.corpus import stopwords\n",
    "# from wordcloud import WordCloud\n",
    "# from nltk.tokenise import sent_tokenise, word_tokenize\n",
    "# from ntlk.util import ngrams\n",
    "# from sklearn.feature_extraction.text import CountVectoriser"
   ]
  },
  {
   "cell_type": "code",
   "execution_count": null,
   "metadata": {},
   "outputs": [],
   "source": []
  }
 ],
 "metadata": {
  "kernelspec": {
   "display_name": "Python 3",
   "language": "python",
   "name": "python3"
  },
  "language_info": {
   "codemirror_mode": {
    "name": "ipython",
    "version": 3
   },
   "file_extension": ".py",
   "mimetype": "text/x-python",
   "name": "python",
   "nbconvert_exporter": "python",
   "pygments_lexer": "ipython3",
   "version": "3.8.5"
  }
 },
 "nbformat": 4,
 "nbformat_minor": 4
}
